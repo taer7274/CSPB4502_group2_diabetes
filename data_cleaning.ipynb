{
 "cells": [
  {
   "cell_type": "code",
   "execution_count": 1,
   "id": "ae6fe98f-7b81-43f6-9c6d-db23c28e6c8b",
   "metadata": {},
   "outputs": [],
   "source": [
    "import os\n",
    "import pandas as pd\n",
    "import numpy as np\n",
    "import random\n",
    "random.seed(1)"
   ]
  },
  {
   "cell_type": "markdown",
   "id": "eab3d674-e22c-409a-b3d6-ae3ee968f7ee",
   "metadata": {},
   "source": [
    "Not all variables are in all datasets, so only include ones that are in all of them and that were asked consistently across all years. "
   ]
  },
  {
   "cell_type": "code",
   "execution_count": 2,
   "id": "cd224cc6-7599-4877-b212-ecb117a42eed",
   "metadata": {},
   "outputs": [],
   "source": [
    "def create_df(path,new_file):\n",
    "    data_header = pd.read_csv(path, nrows=1)\n",
    "    with open(new_file,'w') as f:\n",
    "        data_header = data_header[['DIABETE3','_BMI5', 'SMOKE100', 'CVDSTRK3','_TOTINDA',  \n",
    "                            'HLTHPLN1', 'MEDCOST', 'GENHLTH', 'MENTHLTH', \n",
    "                          'PHYSHLTH', 'SEX', '_AGEG5YR', 'EDUCA', 'INCOME2','MARITAL','POORHLTH','CVDINFR4','_RFHYPE5']]\n",
    "        data_header.to_csv(f,index=False)\n",
    "    for df in pd.read_csv(path, chunksize=1000):\n",
    "        df_selected = df[['DIABETE3','_BMI5', 'SMOKE100', 'CVDSTRK3','_TOTINDA',  \n",
    "                            'HLTHPLN1', 'MEDCOST', 'GENHLTH', 'MENTHLTH', \n",
    "                          'PHYSHLTH', 'SEX', '_AGEG5YR', 'EDUCA', 'INCOME2','MARITAL','POORHLTH','CVDINFR4','_RFHYPE5']]\n",
    "        \n",
    "        with open(new_file, 'a') as f:\n",
    "            df_selected.to_csv(f, header=False, index=False)\n",
    "\n",
    "       "
   ]
  },
  {
   "cell_type": "code",
   "execution_count": 3,
   "id": "38e38796-cc55-411f-aff6-9a20bd307eef",
   "metadata": {},
   "outputs": [],
   "source": [
    "create_df('2011.csv','2011_cleaned.csv')"
   ]
  },
  {
   "cell_type": "code",
   "execution_count": 4,
   "id": "511b470c-0e16-4231-a3e6-f01b35efe3fa",
   "metadata": {},
   "outputs": [],
   "source": [
    "#create_df('2012.csv','2012_cleaned.csv')"
   ]
  },
  {
   "cell_type": "code",
   "execution_count": 5,
   "id": "d24ffe83-0330-4b0a-ac54-c91df7a8d4a3",
   "metadata": {},
   "outputs": [],
   "source": [
    "create_df('2013.csv','2013_cleaned.csv')"
   ]
  },
  {
   "cell_type": "code",
   "execution_count": 6,
   "id": "c74d3547-c220-475d-b512-067be2a99e05",
   "metadata": {},
   "outputs": [],
   "source": [
    "#create_df('2014.csv','2014_cleaned.csv')"
   ]
  },
  {
   "cell_type": "code",
   "execution_count": 7,
   "id": "e0da7c9a-5017-44ba-9bc7-d5cf15a69f95",
   "metadata": {},
   "outputs": [],
   "source": [
    "create_df('2015.csv','2015_cleaned.csv')"
   ]
  },
  {
   "cell_type": "code",
   "execution_count": 8,
   "id": "bac4694d-3bbf-453c-8512-fe7c13e4a89c",
   "metadata": {},
   "outputs": [],
   "source": [
    "data_2011 = pd.read_csv('2011_cleaned.csv')\n",
    "data_2011 = data_2011.dropna()\n",
    "#data_2011.head"
   ]
  },
  {
   "cell_type": "code",
   "execution_count": 9,
   "id": "997c3fc4-bc7c-4538-9b33-4bcb8ed0ce44",
   "metadata": {},
   "outputs": [],
   "source": [
    "#data_2011.groupby(['DIABETE3']).size()"
   ]
  },
  {
   "cell_type": "code",
   "execution_count": 10,
   "id": "e89bc429-6ef1-4865-b587-0ef424183ce8",
   "metadata": {},
   "outputs": [],
   "source": [
    "data_2013 = pd.read_csv('2013_cleaned.csv')\n",
    "data_2013 = data_2013.dropna()\n",
    "#data_2013.head"
   ]
  },
  {
   "cell_type": "code",
   "execution_count": 11,
   "id": "4a543675-ed62-4293-a2b3-f763339e7105",
   "metadata": {},
   "outputs": [],
   "source": [
    "#data_2013.groupby(['DIABETE3']).size()"
   ]
  },
  {
   "cell_type": "code",
   "execution_count": 12,
   "id": "a2dc9274-3d68-4618-a104-de3d97be131b",
   "metadata": {},
   "outputs": [],
   "source": [
    "data_2015 = pd.read_csv('2015_cleaned.csv')\n",
    "data_2015 = data_2015.dropna()\n",
    "#data_2015.head"
   ]
  },
  {
   "cell_type": "code",
   "execution_count": 13,
   "id": "150e98ab-e45c-42b5-8ef3-84db930ae27a",
   "metadata": {},
   "outputs": [],
   "source": [
    "#data_2015.groupby(['DIABETE3']).size()"
   ]
  },
  {
   "cell_type": "code",
   "execution_count": 14,
   "id": "2d0493c5-90bd-4156-9fe6-ee23a4efc507",
   "metadata": {},
   "outputs": [
    {
     "name": "stderr",
     "output_type": "stream",
     "text": [
      "/tmp/ipykernel_375/1780404433.py:9: SettingWithCopyWarning: \n",
      "A value is trying to be set on a copy of a slice from a DataFrame.\n",
      "Try using .loc[row_indexer,col_indexer] = value instead\n",
      "\n",
      "See the caveats in the documentation: https://pandas.pydata.org/pandas-docs/stable/user_guide/indexing.html#returning-a-view-versus-a-copy\n",
      "  data_frame['_BMI5'] = data_frame['_BMI5'].div(100).round(0)\n",
      "/tmp/ipykernel_375/1780404433.py:12: SettingWithCopyWarning: \n",
      "A value is trying to be set on a copy of a slice from a DataFrame.\n",
      "Try using .loc[row_indexer,col_indexer] = value instead\n",
      "\n",
      "See the caveats in the documentation: https://pandas.pydata.org/pandas-docs/stable/user_guide/indexing.html#returning-a-view-versus-a-copy\n",
      "  data_frame['SMOKE100'] = data_frame['SMOKE100'].replace({2:0})\n"
     ]
    }
   ],
   "source": [
    "data_frames = [data_2011, data_2013, data_2015]\n",
    "new_data_frames = []\n",
    "for data_frame in data_frames:\n",
    "    #DIABETE3\n",
    "    data_frame['DIABETE3'] = data_frame['DIABETE3'].replace({2:0, 3:0, 1:2, 4:1})\n",
    "    data_frame = data_frame.loc[data_frame['DIABETE3'] <= 2]\n",
    "    \n",
    "    #_BMI5\n",
    "    data_frame['_BMI5'] = data_frame['_BMI5'].div(100).round(0)\n",
    "    \n",
    "    #SMOKE100\n",
    "    data_frame['SMOKE100'] = data_frame['SMOKE100'].replace({2:0})\n",
    "    data_frame = data_frame.loc[data_frame['SMOKE100'] <= 1]\n",
    "    \n",
    "    #CVDSTRK3\n",
    "    data_frame['CVDSTRK3'] = data_frame['CVDSTRK3'].replace({2:0})\n",
    "    data_frame = data_frame.loc[data_frame['CVDSTRK3'] <= 1]\n",
    "    \n",
    "    #_TOTINDA\n",
    "    data_frame['_TOTINDA'] = data_frame['_TOTINDA'].replace({2:0})\n",
    "    data_frame = data_frame.loc[data_frame['_TOTINDA'] <= 1]\n",
    "    \n",
    "    #HLTHPLN1\n",
    "    data_frame['HLTHPLN1'] = data_frame['HLTHPLN1'].replace({2:0})\n",
    "    data_frame = data_frame.loc[data_frame['HLTHPLN1'] <= 1]\n",
    "    \n",
    "    #MEDCOST\n",
    "    data_frame['MEDCOST'] = data_frame['MEDCOST'].replace({2:0})\n",
    "    data_frame = data_frame.loc[data_frame['MEDCOST'] <= 1]\n",
    "    \n",
    "    #GENHLTH\n",
    "    data_frame = data_frame.loc[data_frame['GENHLTH'] <= 5]\n",
    "    \n",
    "    #MENTHLTH\n",
    "    data_frame['MENTHLTH'] = data_frame['MENTHLTH'].replace({88:0})\n",
    "    data_frame['MENTHLTH'].mask((data_frame['MENTHLTH'] >= 1) & (data_frame['MENTHLTH'] <= 30) , 1, inplace=True)    \n",
    "    data_frame = data_frame.loc[data_frame['MENTHLTH'] <= 1]\n",
    "    \n",
    "    #PHYSHLTH\n",
    "    data_frame['PHYSHLTH'] = data_frame['PHYSHLTH'].replace({88:0})\n",
    "    data_frame['PHYSHLTH'].mask((data_frame['PHYSHLTH'] >= 1) & (data_frame['PHYSHLTH'] <= 30) , 1, inplace=True)    \n",
    "    data_frame = data_frame.loc[data_frame['PHYSHLTH'] <= 1]\n",
    "\n",
    "    #SEX\n",
    "    data_frame['SEX'] = data_frame['SEX'].replace({2:0})\n",
    "    \n",
    "    #_AGEG5YR\n",
    "    data_frame = data_frame.loc[data_frame['_AGEG5YR'] <= 13]\n",
    "    \n",
    "    #EDUCA\n",
    "    data_frame = data_frame.loc[data_frame['EDUCA'] <= 6]\n",
    "    \n",
    "    #INCOME2\n",
    "    data_frame = data_frame.loc[data_frame['INCOME2'] <= 8]\n",
    "    \n",
    "    #MARITAL \n",
    "    data_frame['MARITAL'] = data_frame['MARITAL'].replace({2:0,3:0,4:0,5:0,6:0})\n",
    "    data_frame = data_frame.loc[data_frame['MARITAL'] <= 1]\n",
    "    \n",
    "    #POORHLTH\n",
    "    data_frame['POORHLTH'] = data_frame['POORHLTH'].replace({88:0})\n",
    "    data_frame['POORHLTH'].mask((data_frame['POORHLTH'] >= 1) & (data_frame['POORHLTH'] <= 30) , 1, inplace=True)    \n",
    "    data_frame = data_frame.loc[data_frame['POORHLTH'] <= 1]\n",
    "\n",
    "    #CVDINFR4\n",
    "    data_frame['CVDINFR4'] = data_frame['CVDINFR4'].replace({2:0})\n",
    "    data_frame = data_frame.loc[data_frame['CVDINFR4'] <= 1]\n",
    "    \n",
    "    #_RFHYPE5\n",
    "    # 2 is yes, 1 is no\n",
    "    data_frame['_RFHYPE5'] = data_frame['_RFHYPE5'].replace({2:1,1:0})\n",
    "    data_frame = data_frame.loc[data_frame['_RFHYPE5'] <= 1]\n",
    "\n",
    "    new_data_frames.append(data_frame)\n"
   ]
  },
  {
   "cell_type": "code",
   "execution_count": 15,
   "id": "c653577f-dd6b-4f3d-964e-48fcdf87f430",
   "metadata": {},
   "outputs": [],
   "source": [
    "with open('total_cleaned.csv', 'w') as f:\n",
    "    new_data_frames[0].to_csv(f, index=False)\n",
    "with open('total_cleaned.csv','a') as f:\n",
    "    new_data_frames[1].to_csv(f, header=False, index=False)\n",
    "with open('total_cleaned.csv','a') as f:\n",
    "    new_data_frames[2].to_csv(f, header=False, index=False)\n"
   ]
  },
  {
   "cell_type": "code",
   "execution_count": 16,
   "id": "d7df1b6f-6d91-4c2e-affb-44c559fc5e20",
   "metadata": {},
   "outputs": [
    {
     "data": {
      "text/plain": [
       "Index(['DIABETE3', '_BMI5', 'SMOKE100', 'CVDSTRK3', '_TOTINDA', 'HLTHPLN1',\n",
       "       'MEDCOST', 'GENHLTH', 'MENTHLTH', 'PHYSHLTH', 'SEX', '_AGEG5YR',\n",
       "       'EDUCA', 'INCOME2', 'MARITAL', 'POORHLTH', 'CVDINFR4', '_RFHYPE5'],\n",
       "      dtype='object')"
      ]
     },
     "execution_count": 16,
     "metadata": {},
     "output_type": "execute_result"
    }
   ],
   "source": [
    "#total_data = pd.read_csv('total_cleaned.csv', nrows=500000)\n",
    "total_data = pd.read_csv('total_cleaned.csv')\n",
    "total_data.columns"
   ]
  },
  {
   "cell_type": "code",
   "execution_count": 17,
   "id": "ffe17db9-e7ea-4ffa-96a7-cc7ecddf1042",
   "metadata": {},
   "outputs": [],
   "source": [
    "# now let's created balanced prediabetes, diabetes, and no diabetes data set"
   ]
  },
  {
   "cell_type": "code",
   "execution_count": 18,
   "id": "6dedec91-a2ca-4cc1-982a-3def9f901adb",
   "metadata": {},
   "outputs": [
    {
     "data": {
      "text/plain": [
       "array([0., 1., 2.])"
      ]
     },
     "execution_count": 18,
     "metadata": {},
     "output_type": "execute_result"
    }
   ],
   "source": [
    "total_data['DIABETE3'].unique()"
   ]
  },
  {
   "cell_type": "code",
   "execution_count": 19,
   "id": "1dba6fda-ade6-41c6-bca2-5fd97d5f8fef",
   "metadata": {},
   "outputs": [
    {
     "data": {
      "text/plain": [
       "DIABETE3\n",
       "0.0    440607\n",
       "1.0      9930\n",
       "2.0     78257\n",
       "dtype: int64"
      ]
     },
     "execution_count": 19,
     "metadata": {},
     "output_type": "execute_result"
    }
   ],
   "source": [
    "total_data.groupby(['DIABETE3']).size()"
   ]
  },
  {
   "cell_type": "code",
   "execution_count": null,
   "id": "e3f5ba7e-493b-4e1e-93dd-bcf7f266a415",
   "metadata": {},
   "outputs": [],
   "source": []
  }
 ],
 "metadata": {
  "kernelspec": {
   "display_name": "Python 3 (ipykernel)",
   "language": "python",
   "name": "python3"
  },
  "language_info": {
   "codemirror_mode": {
    "name": "ipython",
    "version": 3
   },
   "file_extension": ".py",
   "mimetype": "text/x-python",
   "name": "python",
   "nbconvert_exporter": "python",
   "pygments_lexer": "ipython3",
   "version": "3.10.8"
  }
 },
 "nbformat": 4,
 "nbformat_minor": 5
}
